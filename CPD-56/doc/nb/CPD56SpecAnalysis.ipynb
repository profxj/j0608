{
 "cells": [
  {
   "cell_type": "code",
   "execution_count": 42,
   "metadata": {},
   "outputs": [],
   "source": [
    "\n",
    "# imports\n",
    "%matplotlib notebook\n",
    "import sys\n",
    "from astropy.table import Table\n",
    "from astropy.io import fits\n",
    "from linetools.spectra.xspectrum1d import XSpectrum1D\n",
    "\n",
    "\n",
    "from specdb.specdb import UVQS\n",
    "from astropy.table import Table\n",
    "from astropy.io import ascii\n",
    "import numpy as np\n",
    "import matplotlib.pyplot as plt\n",
    "from scipy import stats\n",
    "from scipy.stats import norm\n",
    "import glob\n",
    "import numpy.ma as ma\n",
    "import math\n",
    "from scipy.optimize import curve_fit\n",
    "import pylab as plb\n",
    "from scipy.optimize import fmin\n",
    "from scipy import asarray as ar,exp\n",
    "import PyAstronomy.pyasl as pyasl\n",
    "\n"
   ]
  },
  {
   "cell_type": "code",
   "execution_count": 43,
   "metadata": {},
   "outputs": [],
   "source": [
    "def airtovac(wavelength):\n",
    "    \"\"\" Convert air-based wavelengths to vacuum\n",
    "\n",
    "    Parameters:\n",
    "    ----------\n",
    "    wave: ndarray\n",
    "      Wavelengths in Ang\n",
    "\n",
    "    Returns:\n",
    "    ----------\n",
    "    wave: Quantity array\n",
    "      Wavelength array corrected to vacuum wavelengths\n",
    "    \"\"\"\n",
    "    # Standard conversion format\n",
    "    sigma_sq = (1.e4/wavelength)**2. #wavenumber squared\n",
    "    factor = 1 + (5.792105e-2/(238.0185-sigma_sq)) + (1.67918e-3/(57.362-sigma_sq))\n",
    "    factor = factor*(wavelength>=2000.) + 1.*(wavelength<2000.) #only modify above 2000A\n",
    "\n",
    "    # Convert\n",
    "    new_wave = wavelength*factor\n",
    "    return new_wave\n",
    "\n",
    "def vactoair(wavelength):\n",
    "    # Standard conversion format\n",
    "    sigma_sq = (1.e4/wavelength)**2. #wavenumber squared\n",
    "    factor = 1 + (5.792105e-2/(238.0185-sigma_sq)) + (1.67918e-3/(57.362-sigma_sq))\n",
    "    factor = factor*(wavelength>=2000.) + 1.*(wavelength<2000.) #only modify above 2000A\n",
    "\n",
    "    # Convert\n",
    "    new_wave = wavelength*factor\n",
    "    return new_wave\n",
    "\n"
   ]
  },
  {
   "cell_type": "markdown",
   "metadata": {},
   "source": [
    "## Convert CPD-56_F.fits into ascii table"
   ]
  },
  {
   "cell_type": "code",
   "execution_count": 46,
   "metadata": {},
   "outputs": [
    {
     "name": "stderr",
     "output_type": "stream",
     "text": [
      "/Users/catherinemanea/Documents/j0608/data/spec/linetools/linetools/spectra/xspectrum1d.py:108: UserWarning: Assuming wavelength unit is Angstroms\n",
      "  warnings.warn(\"Assuming wavelength unit is Angstroms\")\n"
     ]
    }
   ],
   "source": [
    "\n",
    "sp = XSpectrum1D.from_file('/Users/catherinemanea/Documents/j0608/data/spec/CPD-56_F.fits') \n",
    "sp.write_to_ascii('CPD56.ascii')\n"
   ]
  },
  {
   "cell_type": "markdown",
   "metadata": {},
   "source": [
    "# ALIS reader"
   ]
  },
  {
   "cell_type": "markdown",
   "metadata": {},
   "source": [
    "## Read and distribute all ALIS .mod.out info into lists"
   ]
  },
  {
   "cell_type": "code",
   "execution_count": 835,
   "metadata": {},
   "outputs": [],
   "source": [
    "velocitycorrection = 247.3\n",
    "c = 3*(10**8)\n",
    "chars = \"wave= =IntFluxredshiftoibamplitude\"\n",
    "\n",
    "files = glob.glob('/Users/catherinemanea/Documents/j0608/fits/*.mod.out')\n",
    "\n",
    "#initiate lists (separate ones for absorption)\n",
    "amplist = []\n",
    "amperrlist = []\n",
    "redlist = []\n",
    "rederrlist = []\n",
    "displist = []\n",
    "disperrlist = []\n",
    "restwavelist = []\n",
    "\n",
    "\n",
    "for file in files:\n",
    "    modoutfile = open(file,\"r\")\n",
    "    lines = modoutfile.readlines()\n",
    "    for line in lines:\n",
    "        if \"gaussian  \" in line:\n",
    "            if line[0] != \"#\":\n",
    "                amplitude = line[13:29].strip(chars)\n",
    "                amplist.append(float(amplitude))\n",
    "                redshift = line[29:44].strip(chars)\n",
    "                redlist.append(redshift)\n",
    "                disp = line[44:60].strip(chars)\n",
    "                if disp[1] == \" \" or disp[2] == \" \":\n",
    "                    disp = disp[2:].strip(chars)\n",
    "                displist.append(float(disp))\n",
    "                restwave = line[75:96].strip(chars)\n",
    "                restwavelist.append(float(restwave))\n",
    "                temp.append(float(restwave))\n",
    "            if line[0] == \"#\" and line[2] != \" \":\n",
    "                amperr = line[14:29].strip(chars)\n",
    "                amperrlist.append(float(amperr))\n",
    "                rederr = line[30:45].strip(chars)\n",
    "                rederrlist.append(rederr)\n",
    "                disperr = line[45:62].strip(chars)\n",
    "                if ' ' in disperr:\n",
    "                    if 'E' in disperr:\n",
    "                        disperr = disperr[6:].strip(chars)\n",
    "                    else:\n",
    "                        disperr = disperr[2:].strip(chars)\n",
    "                disperrlist.append(float(disperr))\n",
    "    modoutfile.close()\n",
    "    \n",
    "    \n",
    "    \n",
    "cleanredlist = []\n",
    "cleanrederrlist = []\n",
    "\n",
    "\n",
    "#convert redshifts into decimal form\n",
    "for item in redlist:\n",
    "    if 'E' in item:\n",
    "        item = float(item[:-4])*(10**(-4))\n",
    "    cleanredlist.append(float(item))\n",
    "for item in rederrlist:\n",
    "    if 'E' in item:\n",
    "        if item[-1:] == \"-\" or item[-1:] == \"E\" or item[-1:]==0:\n",
    "            item = float(item[:-4])*(10**(-6))\n",
    "        else:\n",
    "            item = float(item)\n",
    "    cleanrederrlist.append(float(item))\n",
    "\n",
    "tt = Table([restwavelist,displist,cleanredlist], \n",
    "                     names = ('Wave','Disp','Red'))"
   ]
  },
  {
   "cell_type": "markdown",
   "metadata": {},
   "source": [
    "## Extract P Cygni Info"
   ]
  },
  {
   "cell_type": "code",
   "execution_count": 836,
   "metadata": {},
   "outputs": [],
   "source": [
    "\n",
    "PCyg = []\n",
    "PCygerr = []\n",
    "PCygdisp = []\n",
    "PCygdisperr = []\n",
    "PCygred = []\n",
    "PCygrederr = []\n",
    "flagged = []\n",
    "numms = []\n",
    "\n",
    "\n",
    "\n",
    "for ii in range(125):\n",
    "    if restwavelist[ii] == restwavelist[ii+1]:\n",
    "        PCyg.append(np.round(float(amplist[ii]),4))\n",
    "        PCygerr.append(np.round(float(amperrlist[ii]),4))\n",
    "        PCygdisp.append(np.round(float(displist[ii]),4))\n",
    "        PCygdisperr.append(np.round(float(disperrlist[ii]),4))\n",
    "        PCygred.append(np.round(float(cleanredlist[ii]),4))\n",
    "        PCygrederr.append(np.round(float(cleanrederrlist[ii]),4))\n",
    "        numms.append(ii)\n",
    "\n",
    "        restwavelist.remove(restwavelist[ii])\n",
    "        amplist.remove(amplist[ii])\n",
    "        amperrlist.remove(amperrlist[ii])\n",
    "        displist.remove(displist[ii])\n",
    "        disperrlist.remove(disperrlist[ii])\n",
    "        cleanredlist.remove(cleanredlist[ii])\n",
    "        cleanrederrlist.remove(cleanrederrlist[ii])\n",
    "        flagged.append(ii)\n",
    "        ii = ii+1\n",
    "    else:\n",
    "        PCyg.append(0)\n",
    "        PCygerr.append(0)\n",
    "        PCygdisp.append(0)\n",
    "        PCygdisperr.append(0)\n",
    "        PCygred.append(0)\n",
    "        PCygrederr.append(0)\n",
    "        ii = ii+1\n",
    "PCyg.append(0)\n",
    "PCygerr.append(0)\n",
    "PCygdisp.append(0)\n",
    "PCygdisperr.append(0)\n",
    "PCygred.append(0)\n",
    "PCygrederr.append(0)\n",
    "\n",
    "#print(numms)\n",
    "#newdisp = np.delete(np.array(displist), numms)"
   ]
  },
  {
   "cell_type": "markdown",
   "metadata": {},
   "source": [
    "## Create linelist dict:"
   ]
  },
  {
   "cell_type": "code",
   "execution_count": 837,
   "metadata": {},
   "outputs": [],
   "source": [
    "IDdict = {3727.1:\"OII\",   3730.1:\"OII\",   3889.75:\"HeI\",   3889.9:\"HeI\",   3920.1:\"CII\",   3921.8:\"CII\",   4102.85:\"H-Delta\",   4268.2:\"CII\",   4341.7:\"H-Gamma\",\n",
    " 4369.3:\"CII\",   4371.9:\"CII\",   4373.6:\"CII\",   4375.5:\"CII\",   4376.2:\"CII\",   4377.8:\"CII\",   4410.4:\"CII\",   4411.2:\"CII\",\n",
    " 4412.4:\"CII\",   4412.7:\"CII\",   4414.5:\"CII\",   4416.14:\"CII\",  4418.215:\"CII\", 4472.74:\"HeI\",   4619.69:\"CII\",  4620.49:\"CII\",\n",
    " 4626.89:\"CII\",  4628.69:\"CII\",  4631.29:\"CII\",  4714.5:\"HeI\",   4728.7:\"CII\",   4735.9:\"CII\",   4736.8:\"CII\",   4739.3:\"CII\",\n",
    " 4746.1:\"CII\",  4748.6:\"CII\",   4862.7:\"H-Beta\",   4868.5:\"CII\", 4923.3:\"HeI\",   5017.0:\"HeI\",   5032.1:\"??\",   5035.9:\"CII\",\n",
    " 5040.7:\"??\",   5041.8:\"CII\",   5044.3:\"CII\",   5045.:\"CII\",    5047.1:\"CII\",   5049.2:\"??\",   5109.3:\"CII\",   5115.1:\"CII\",\n",
    " 5115.7:\"CII\",   5118.1:\"CII\",   5120.8:\"CII\",   5121.5:\"CII\",   5123.2:\"CII\",   5123.9:\"CII\",   5126.6:\"CII\",   5128.3:\"CII\",\n",
    " 5134.3:\"CII\",   5134.7:\"CII\",   5138.7:\"CII\",   5140.6:\"CII\",   5144.9:\"CII\",   5146.6:\"CII\",   5152.5:\"CII\",   5250.989:\"CII\",5251.45: \"CII\",\n",
    " 5255.02:\"CII\",   5257.55:\"CII\",   5258.7:\"CII\",   5260.5:\"CII\",   5261.22:\"CII\",   5334.4:\"CII\",   5336.3:\"CII\",   5342.96:\"CII\",\n",
    " 5369.94:\"CII\",  5370.03:\"CII\",  5374.355:\"CII\", 5536.5:\"CII\",   5539.5:\"CII\",   5642.1:\"CII\",   5649.7:\"CII\",   5664.1:\"CII\",\n",
    " 5697.5:\"CIII\",   5877.25:\"HeI\",  6463.79:\"CII\",   6564.614:\"H-Alpha\", 6579.9:\"CII\",  6584.69:\"NII\",   6679.9:\"HeI\",\n",
    " 6782.5:\"CII\",   6785.8:\"CII\",   6789.:\"CII\",    6793.4:\"CII\",   6800.:\"CII\",    6802.6:\"CII\",   6814.2:\"CII\",   7067.1:\"HeI\",\n",
    " 7114.5:\"CII\",   7115.:\"CII\",    7117.6:\"CII\",   7127.7:\"CII\",   7134.4:\"CII\",   7136.1:\"CII\",   7146.2:\"CII\",   7233.3:\"CII\",\n",
    " 7238.4:\"CII\",   7239.2:\"CII\",   7283.3:\"HeI\",   7321.:\"OII\",    7332.:\"OII\",    7507.73:\"CII\",   7510.96:\"CII\",    7521.6:\"CII\",\n",
    " 7522.:\"CII\",    7532.64:\"CII\",   7771.5:\"OI\",   7777.5:\"OI\",   8031.1:\"CII\",   8039.9:\"CII\",   8041.6:\"CII\",   8050.5:\"CII\",\n",
    " 8064.3:\"CII\",   8065.:\"CII\",    8078.8:\"CII\",   8448.8:\"OI\", 6579.87:\"CII\", 5369.83:\"CII\", 7773.9:\"CIII?\", 7774.08:\"OI\", 7776.31:\"OI\", 7777.53:\"OI\",\n",
    "         5016.73: \"HeI\", 6152.45:\"CII\", 5017.08:\"HeI\", 5891.41: \"CII\", 5893.22: \"CII\", 6096.98: \"CII\", 6100.2:\"CII\", 6104.25:\"CII\", 6462.08: \"CII\"}\n",
    "\n"
   ]
  },
  {
   "cell_type": "markdown",
   "metadata": {},
   "source": [
    "## Create ID column"
   ]
  },
  {
   "cell_type": "code",
   "execution_count": 838,
   "metadata": {},
   "outputs": [],
   "source": [
    "IDs = []\n",
    "for item in restwavelist:\n",
    "    IDs.append(IDdict[item])"
   ]
  },
  {
   "cell_type": "markdown",
   "metadata": {},
   "source": [
    "## Create table"
   ]
  },
  {
   "cell_type": "code",
   "execution_count": 839,
   "metadata": {},
   "outputs": [],
   "source": [
    "\n",
    "amplist,redlist,displist,restwavelist = np.array(amplist),np.array(redlist),np.array(displist),np.array(restwavelist)\n",
    "cleanredlist = np.array(cleanredlist)\n",
    "PCyg , PCygdisp = np.array(PCyg), np.array(PCygdisp)\n",
    "\n",
    "observedwavelist = restwavelist*(cleanredlist+1)\n",
    "\n",
    "parsetable = Table([np.round(amplist,2),cleanredlist,np.round(displist,2),restwavelist,PCyg, PCygerr, PCygdisperr,np.round(amperrlist,4),cleanrederrlist,IDs,PCygred,np.round(PCygdisp,1)], \n",
    "                     names = ('ALIS Amplitude','Redshift','Dispersion','Rest Wavelength',\"P Cygni Amp\",\"P Cyg Err\",\"P Cyg Disp Err\",\n",
    "                             \"Amp Err\",\"Redshift Err\",\"ID\",\"PCygRed\",\"PCygDisp\"))\n"
   ]
  },
  {
   "cell_type": "markdown",
   "metadata": {},
   "source": [
    "## Create observed wavelength column"
   ]
  },
  {
   "cell_type": "code",
   "execution_count": 840,
   "metadata": {},
   "outputs": [],
   "source": [
    "observedwaves = np.array(restwavelist*(cleanredlist+1))\n",
    "\n",
    "\n",
    "\n",
    "parsetable[\"Observed Wavelength\"] = np.round(observedwaves,1)\n",
    "parsetable[\"Observed Wave Err\"] = np.round(restwavelist*(cleanredlist+cleanrederrlist+1) - observedwaves,4)"
   ]
  },
  {
   "cell_type": "markdown",
   "metadata": {},
   "source": [
    "## Velocity Column (based on doppler shift)"
   ]
  },
  {
   "cell_type": "code",
   "execution_count": 841,
   "metadata": {},
   "outputs": [],
   "source": [
    "parsetable[\"Velocity\"] = np.round(parsetable[\"Redshift\"]*c/(10**3),0).astype(int)\n",
    "parsetable[\"PCygV\"] = np.round(parsetable[\"PCygRed\"]*c/(10**3),0).astype(int)"
   ]
  },
  {
   "cell_type": "markdown",
   "metadata": {},
   "source": [
    "## Create columns with values plus/minus error (unnecessary for now)"
   ]
  },
  {
   "cell_type": "code",
   "execution_count": 842,
   "metadata": {},
   "outputs": [],
   "source": [
    "ii = 0\n",
    "obserwav = []\n",
    "pc = []\n",
    "amp = []\n",
    "dis = []\n",
    "airobserved = pyasl.vactoair2(observedwaves)\n",
    "\n",
    "for item in airobserved:\n",
    "    obserwav.append(str(np.round(item,1))+\"$\\pm$\"+str(parsetable[\"Observed Wave Err\"][ii]))\n",
    "    ii = ii+1\n",
    "\n",
    "jj = 0\n",
    "for item in PCyg:\n",
    "    pc.append(str(item)+\"$\\pm$\"+str(PCygerr[jj]))\n",
    "    jj = jj+1\n",
    "    \n",
    "bb = 0\n",
    "for item in amplist:\n",
    "    amp.append(str(np.round(item,2))+\"$\\pm$\"+str(np.round(amperrlist[bb],2)))\n",
    "    bb = bb+1\n",
    "    \n",
    "cc = 0\n",
    "for item in displist:\n",
    "    dis.append(str(np.round(item,1))+\"$\\pm$\"+str(np.round(disperrlist[cc],1)))\n",
    "    cc = cc+1\n",
    "\n",
    "parsetable[\"ObsWav\"] = obserwav\n",
    "parsetable[\"PC\"] = pc\n",
    "parsetable[\"amp\"] = amp      \n",
    "parsetable[\"dis\"] = dis\n"
   ]
  },
  {
   "cell_type": "markdown",
   "metadata": {},
   "source": [
    "## Create columns for amplitudes as ratio to H-Beta"
   ]
  },
  {
   "cell_type": "code",
   "execution_count": 843,
   "metadata": {},
   "outputs": [],
   "source": [
    "parsetable[\"ratioamp\"] = np.round(amplist/50.40253105,2)\n",
    "ratiopc = []\n",
    "for item in PCyg:\n",
    "    ratiopc.append(np.round(float(item)/50.40253105,2))\n",
    "parsetable[\"ratiopc\"] = ratiopc"
   ]
  },
  {
   "cell_type": "markdown",
   "metadata": {},
   "source": [
    "## Convert back to air for Dr. Margon"
   ]
  },
  {
   "cell_type": "code",
   "execution_count": 845,
   "metadata": {},
   "outputs": [],
   "source": [
    "\n",
    "\n",
    "restwaveair = np.round(pyasl.vactoair2(restwavelist),1)\n",
    "parsetable[\"Rest Wavelength (air)\"] = restwaveair\n",
    "zair = (observedwaves/restwaveair) - 1\n",
    "#parsetable[\"Vair\"] = np.round(zair*c/(10**3),0).astype(int)\n",
    "parsetable[\"Observed Wavelength (air)\"] = airobserved"
   ]
  },
  {
   "cell_type": "markdown",
   "metadata": {},
   "source": [
    "## Convert to Latex Table"
   ]
  },
  {
   "cell_type": "code",
   "execution_count": 846,
   "metadata": {},
   "outputs": [
    {
     "name": "stdout",
     "output_type": "stream",
     "text": [
      "\\begin{tabletype}[tablealign]\n",
      "preamble\n",
      "\\caption{caption}\n",
      "\\begin{tabular}{col_align}\n",
      "header_start\n",
      "ID & Rest Wavelength (air) & Velocity & ObsWav & ratioamp & dis & ratiopc & PCygV & PCygDisp \\\\\n",
      " &  &  &  &  &  &  &  &  \\\\\n",
      "header_end\n",
      "data_start\n",
      "OII & 3726.0 & 217 & 3728.7$\\pm$0.0036 & 0.85 & 28.3$\\pm$1.4 & 0.0 & 0 & 0.0 \\\\\n",
      "OII & 3729.0 & 203 & 3731.6$\\pm$0.0021 & 1.54 & 47.1$\\pm$1.0 & 0.0 & 0 & 0.0 \\\\\n",
      "HeI & 3888.6 & 252 & 3891.9$\\pm$0.0192 & 2.45 & 25.2$\\pm$2.1 & -1.17 & 180 & 46.8 \\\\\n",
      "CII & 3919.0 & 245 & 3922.2$\\pm$0.0004 & 1.13 & 6.1$\\pm$1.8 & 0.0 & 0 & 0.0 \\\\\n",
      "CII & 3920.7 & 253 & 3924.0$\\pm$0.0003 & 1.69 & 21.2$\\pm$0.6 & 0.0 & 0 & 0.0 \\\\\n",
      "H-Delta & 4101.7 & 251 & 4105.1$\\pm$0.0026 & 0.22 & 31.2$\\pm$3.2 & 0.0 & 0 & 0.0 \\\\\n",
      "CII & 4267.0 & 268 & 4270.8$\\pm$0.0001 & 3.82 & 33.7$\\pm$0.9 & 0.0 & 0 & 0.0 \\\\\n",
      "H-Gamma & 4340.5 & 236 & 4343.9$\\pm$0.0039 & 0.26 & 14.3$\\pm$3.4 & 0.0 & 0 & 0.0 \\\\\n",
      "CII & 4368.1 & 243 & 4371.6$\\pm$0.0297 & 0.36 & 131.3$\\pm$17.1 & -0.39 & 120 & 36.3 \\\\\n",
      "CII & 4370.7 & 280 & 4374.7$\\pm$0.0 & 0.03 & 0.0$\\pm$0.0 & 0.0 & 0 & 0.0 \\\\\n",
      "CII & 4372.4 & 241 & 4375.9$\\pm$0.0037 & 0.28 & 21.5$\\pm$2.2 & 0.0 & 0 & 0.0 \\\\\n",
      "CII & 4374.3 & 265 & 4378.1$\\pm$0.0029 & 0.16 & 7.2$\\pm$9.5 & 0.0 & 0 & 0.0 \\\\\n",
      "CII & 4375.0 & 249 & 4378.6$\\pm$0.0 & 0.08 & 0.0$\\pm$0.0 & 0.0 & 0 & 0.0 \\\\\n",
      "CII & 4376.6 & 230 & 4379.9$\\pm$0.0001 & 0.33 & 48.8$\\pm$3.9 & 0.0 & 0 & 0.0 \\\\\n",
      "CII & 4409.2 & 226 & 4412.5$\\pm$0.0 & 0.05 & 0.0$\\pm$0.0 & 0.0 & 0 & 0.0 \\\\\n",
      "CII & 4410.0 & 194 & 4412.8$\\pm$39056.6929 & 0.1 & 0.5$\\pm$674.9 & 0.0 & 0 & 0.0 \\\\\n",
      "CII & 4411.2 & 247 & 4414.8$\\pm$0.0434 & 0.34 & 23.3$\\pm$7.5 & 0.0 & 0 & 0.0 \\\\\n",
      "CII & 4411.5 & 151 & 4413.7$\\pm$0.416 & 0.11 & 1.3$\\pm$616.3 & 0.0 & 0 & 0.0 \\\\\n",
      "CII & 4413.3 & 204 & 4416.3$\\pm$0.0 & 0.01 & 0.0$\\pm$0.0 & 0.0 & 0 & 0.0 \\\\\n",
      "CII & 4414.9 & 204 & 4417.9$\\pm$0.0034 & -0.33 & 18.8$\\pm$1.8 & 0.0 & 0 & 0.0 \\\\\n",
      "CII & 4417.0 & 207 & 4420.0$\\pm$0.0026 & -0.32 & 29.7$\\pm$1.9 & 0.0 & 0 & 0.0 \\\\\n",
      "HeI & 4471.5 & 230 & 4474.9$\\pm$0.0452 & 2.37 & 36.0$\\pm$0.8 & -2.2 & 210 & 36.0 \\\\\n",
      "CII & 4618.4 & 308 & 4623.1$\\pm$0.0396 & 1.07 & 106.9$\\pm$146.9 & 0.0 & 0 & 0.0 \\\\\n",
      "CII & 4619.2 & 309 & 4624.0$\\pm$0.1883 & 0.13 & 0.4$\\pm$10.4 & 0.0 & 0 & 0.0 \\\\\n",
      "CII & 4625.6 & 228 & 4629.1$\\pm$0.0087 & 0.21 & 42.9$\\pm$39.0 & 0.0 & 0 & 0.0 \\\\\n",
      "CII & 4627.4 & 246 & 4631.2$\\pm$0.0454 & 0.15 & 56.9$\\pm$7.5 & 0.0 & 0 & 0.0 \\\\\n",
      "CII & 4630.0 & 250 & 4633.8$\\pm$0.0086 & 0.21 & 40.7$\\pm$11.3 & 0.0 & 0 & 0.0 \\\\\n",
      "HeI & 4713.2 & 247 & 4717.1$\\pm$0.0088 & 0.35 & 13.5$\\pm$6.3 & -0.17 & 180 & 18.8 \\\\\n",
      "CII & 4727.4 & 240 & 4731.2$\\pm$0.0003 & 0.1 & 20.0$\\pm$2.2 & 0.0 & 0 & 0.0 \\\\\n",
      "CII & 4734.6 & 143 & 4736.8$\\pm$18491.9959 & -0.5 & 0.0$\\pm$0.4 & 0.0 & 0 & 0.0 \\\\\n",
      "CII & 4735.5 & 233 & 4739.1$\\pm$0.0045 & 0.38 & 31.5$\\pm$0.7 & 0.0 & 0 & 0.0 \\\\\n",
      "CII & 4738.0 & 242 & 4741.8$\\pm$0.0009 & 0.79 & 21.2$\\pm$0.4 & 0.0 & 0 & 0.0 \\\\\n",
      "CII & 4744.8 & 242 & 4748.6$\\pm$0.0 & 1.26 & 21.5$\\pm$1.3 & 0.0 & 0 & 0.0 \\\\\n",
      "CII & 4747.3 & 236 & 4751.0$\\pm$0.0015 & 0.42 & 23.7$\\pm$0.5 & 0.0 & 0 & 0.0 \\\\\n",
      "H-Beta & 4861.3 & 262 & 4865.6$\\pm$0.0047 & 1.0 & 45.8$\\pm$0.9 & 0.0 & 0 & 0.0 \\\\\n",
      "CII & 4867.1 & 226 & 4870.8$\\pm$0.0011 & 0.25 & 20.9$\\pm$1.5 & 0.0 & 0 & 0.0 \\\\\n",
      "HeI & 4921.9 & 241 & 4925.9$\\pm$0.0193 & 0.32 & 9.3$\\pm$3.3 & -0.51 & 180 & 36.6 \\\\\n",
      "HeI & 5015.6 & 240 & 5019.6$\\pm$0.0016 & 1.61 & 29.0$\\pm$0.0 & -0.95 & 180 & 29.0 \\\\\n",
      "?? & 5030.7 & 315 & 5036.0$\\pm$0.0099 & 0.57 & 37.9$\\pm$1.2 & 0.0 & 0 & 0.0 \\\\\n",
      "CII & 5034.5 & 316 & 5039.8$\\pm$0.0105 & 0.42 & 33.6$\\pm$20.8 & 0.0 & 0 & 0.0 \\\\\n",
      "?? & 5039.3 & 136 & 5041.6$\\pm$0.0175 & 0.33 & 114.9$\\pm$1.5 & 0.0 & 0 & 0.0 \\\\\n",
      "CII & 5040.4 & 263 & 5044.8$\\pm$0.0028 & 0.39 & 52.3$\\pm$0.0 & 0.0 & 0 & 0.0 \\\\\n",
      "CII & 5042.9 & 168 & 5045.7$\\pm$0.0 & 0.03 & 0.0$\\pm$1.4 & 0.0 & 0 & 0.0 \\\\\n",
      "CII & 5043.6 & 285 & 5048.4$\\pm$0.0031 & 0.25 & 39.6$\\pm$207.1 & 0.0 & 0 & 0.0 \\\\\n",
      "CII & 5045.7 & 843 & 5059.9$\\pm$1.9494 & 0.76 & 482.7$\\pm$2.0 & 0.0 & 0 & 0.0 \\\\\n",
      "?? & 5047.8 & 244 & 5051.9$\\pm$0.0 & 0.19 & 42.0$\\pm$3.3 & 0.0 & 0 & 0.0 \\\\\n",
      "CII & 5120.1 & 300 & 5125.2$\\pm$0.0048 & 0.89 & 78.6$\\pm$1.0 & 0.0 & 0 & 0.0 \\\\\n",
      "CII & 5122.5 & 214 & 5126.1$\\pm$0.0 & 0.22 & 0.0$\\pm$0.0 & 0.0 & 0 & 0.0 \\\\\n",
      "CII & 5125.2 & 242 & 5129.3$\\pm$0.0 & 0.1 & 0.0$\\pm$17.8 & 0.0 & 0 & 0.0 \\\\\n",
      "CII & 5126.9 & 242 & 5131.0$\\pm$0.0 & 0.06 & 0.0$\\pm$18.5 & 0.0 & 0 & 0.0 \\\\\n",
      "CII & 5132.9 & 265 & 5137.4$\\pm$19043.7331 & -7.52 & 44.6$\\pm$10.4 & 0.0 & 0 & 0.0 \\\\\n",
      "CII & 5133.3 & 246 & 5137.5$\\pm$14388.9216 & 7.47 & 40.6$\\pm$0.0 & 0.0 & 0 & 0.0 \\\\\n",
      "CII & 5137.3 & 236 & 5141.3$\\pm$0.0 & 0.26 & 0.0$\\pm$19.6 & 0.0 & 0 & 0.0 \\\\\n",
      "CII & 5139.2 & 253 & 5143.5$\\pm$0.6592 & 0.96 & 113.8$\\pm$0.0 & 0.0 & 0 & 0.0 \\\\\n",
      "CII & 5143.5 & 183 & 5146.6$\\pm$0.0 & -0.04 & 0.0$\\pm$607.2 & 0.0 & 0 & 0.0 \\\\\n",
      "CII & 5145.2 & 271 & 5149.8$\\pm$3.405 & 0.35 & 0.2$\\pm$9.1 & -0.52 & 60 & 72.9 \\\\\n",
      "CII & 5151.1 & 201 & 5154.5$\\pm$0.2594 & 4.01 & 38.3$\\pm$4.9 & -3.91 & 210 & 34.3 \\\\\n",
      "CII & 5249.5 & 225 & 5253.5$\\pm$13665.4103 & 0.04 & 0.3$\\pm$109.6 & 0.0 & 0 & 0.0 \\\\\n",
      "CII & 5250.0 & 265 & 5254.6$\\pm$0.2997 & 0.02 & 26.4$\\pm$359.7 & 0.0 & 0 & 0.0 \\\\\n",
      "CII & 5253.6 & 234 & 5257.6$\\pm$5.7697 & 0.03 & 0.4$\\pm$2020.4 & 0.0 & 0 & 0.0 \\\\\n",
      "CII & 5256.1 & 240 & 5260.3$\\pm$26.5232 & 0.04 & 0.4$\\pm$1340.2 & 0.0 & 0 & 0.0 \\\\\n",
      "CII & 5257.2 & 233 & 5261.3$\\pm$5449.4905 & 0.15 & 0.5$\\pm$3112.4 & 0.0 & 0 & 0.0 \\\\\n",
      "CII & 5259.0 & 226 & 5263.0$\\pm$36282.1387 & 0.09 & 0.5$\\pm$36.9 & 0.0 & 0 & 0.0 \\\\\n",
      "CII & 5259.8 & 228 & 5263.8$\\pm$1.3073 & 0.21 & 23.0$\\pm$0.3 & 0.0 & 0 & 0.0 \\\\\n",
      "CII & 5332.9 & 218 & 5336.8$\\pm$0.0037 & 0.26 & 17.5$\\pm$2.5 & 0.0 & 0 & 0.0 \\\\\n",
      "CII & 5334.8 & 221 & 5338.8$\\pm$0.0018 & 0.35 & 18.7$\\pm$1.3 & 0.0 & 0 & 0.0 \\\\\n",
      "CII & 5341.5 & 287 & 5346.6$\\pm$0.0009 & 0.49 & 23.5$\\pm$2.8 & 0.0 & 0 & 0.0 \\\\\n",
      "CII & 5368.3 & 199 & 5371.9$\\pm$0.0089 & 0.47 & 60.6$\\pm$9.5 & 0.0 & 0 & 0.0 \\\\\n",
      "CII & 5368.4 & 418 & 5375.9$\\pm$0.0 & 0.1 & 0.0$\\pm$0.0 & 0.0 & 0 & 0.0 \\\\\n",
      "CII & 5368.5 & 135 & 5371.0$\\pm$0.0113 & -0.17 & 22.3$\\pm$0.0 & 0.0 & 0 & 0.0 \\\\\n",
      "CII & 5535.0 & 259 & 5539.7$\\pm$0.0038 & 0.51 & 17.2$\\pm$3.2 & 0.0 & 0 & 0.0 \\\\\n",
      "CII & 5538.0 & 219 & 5542.0$\\pm$0.0016 & 0.38 & 20.2$\\pm$3.8 & 0.0 & 0 & 0.0 \\\\\n",
      "CII & 5640.5 & 236 & 5645.0$\\pm$0.3275 & 0.51 & 30.8$\\pm$4.9 & -0.18 & 180 & 0.7 \\\\\n",
      "CII & 5648.1 & 242 & 5652.7$\\pm$0.015 & 0.4 & 21.7$\\pm$3.6 & -0.14 & 180 & 10.1 \\\\\n",
      "CII & 5662.5 & 231 & 5666.9$\\pm$0.0005 & 0.6 & 44.7$\\pm$3.2 & -0.36 & 180 & 17.2 \\\\\n",
      "CIII & 5695.9 & 255 & 5700.8$\\pm$0.0029 & 0.19 & 52.3$\\pm$10.0 & 0.0 & 0 & 0.0 \\\\\n",
      "HeI & 5875.6 & 252 & 5880.6$\\pm$0.0002 & 2.11 & 26.0$\\pm$1.7 & -0.65 & 180 & 41.9 \\\\\n",
      "CII & 5889.8 & 236 & 5894.4$\\pm$0.0037 & 1.8 & 26.6$\\pm$0.8 & 0.0 & 0 & 0.0 \\\\\n",
      "CII & 5891.6 & 242 & 5896.3$\\pm$0.0 & 1.07 & 24.1$\\pm$1.3 & 0.0 & 0 & 0.0 \\\\\n",
      "CII & 6095.3 & 246 & 6100.3$\\pm$0.0011 & 0.71 & 29.7$\\pm$0.6 & 0.0 & 0 & 0.0 \\\\\n",
      "CII & 6098.5 & 240 & 6103.4$\\pm$0.0002 & 0.87 & 25.3$\\pm$0.5 & 0.0 & 0 & 0.0 \\\\\n",
      "CII & 6102.6 & 240 & 6107.4$\\pm$0.0026 & 0.27 & 28.4$\\pm$1.2 & 0.0 & 0 & 0.0 \\\\\n",
      "CII & 6150.7 & 273 & 6156.3$\\pm$0.0004 & 0.76 & 25.5$\\pm$0.0 & 0.0 & 0 & 0.0 \\\\\n",
      "CII & 6460.3 & 309 & 6467.0$\\pm$0.0099 & 0.62 & 41.1$\\pm$0.5 & 0.0 & 0 & 0.0 \\\\\n",
      "CII & 6462.0 & 230 & 6467.0$\\pm$0.0034 & 0.62 & 26.9$\\pm$0.4 & 0.0 & 0 & 0.0 \\\\\n",
      "H-Alpha & 6562.8 & 229 & 6567.8$\\pm$0.0 & 1.76 & 15.5$\\pm$16.9 & 0.0 & 0 & 0.0 \\\\\n",
      "CII & 6578.1 & 257 & 6583.7$\\pm$0.0001 & 1.73 & 14.6$\\pm$0.5 & -0.34 & 150 & 7.9 \\\\\n",
      "NII & 6582.9 & 260 & 6588.6$\\pm$0.0003 & 2.52 & 19.3$\\pm$0.3 & 0.0 & 0 & 0.0 \\\\\n",
      "HeI & 6678.1 & 259 & 6683.8$\\pm$0.0047 & 0.92 & 26.7$\\pm$1.3 & -0.45 & 180 & 30.8 \\\\\n",
      "CII & 6780.6 & 243 & 6786.1$\\pm$34189.23 & 6.04 & 38.0$\\pm$552.9 & -5.97 & 240 & 42.4 \\\\\n",
      "CII & 6783.9 & 254 & 6789.7$\\pm$0.0225 & 0.47 & 0.4$\\pm$225.2 & -1.65 & 120 & 303.8 \\\\\n",
      "CII & 6787.1 & 260 & 6793.0$\\pm$27438.2227 & 0.27 & 0.4$\\pm$25.4 & 0.0 & 0 & 0.0 \\\\\n",
      "CII & 6791.5 & 243 & 6797.0$\\pm$39559.3672 & 2.93 & 25.7$\\pm$0.0 & -2.79 & 240 & 29.0 \\\\\n",
      "CII & 6798.1 & 236 & 6803.5$\\pm$0.0 & 0.15 & 0.0$\\pm$357.5 & 0.0 & 0 & 0.0 \\\\\n",
      "CII & 6800.7 & 255 & 6806.5$\\pm$0.3065 & 0.3 & 0.2$\\pm$2.2 & 0.0 & 0 & 0.0 \\\\\n",
      "CII & 6812.3 & 245 & 6817.9$\\pm$0.0058 & 0.2 & 8.7$\\pm$0.2 & 0.0 & 0 & 0.0 \\\\\n",
      "HeI & 7065.2 & 255 & 7071.2$\\pm$0.0004 & 1.13 & 20.3$\\pm$0.8 & 0.0 & 0 & 0.0 \\\\\n",
      "CII & 7112.5 & 223 & 7117.8$\\pm$0.0069 & 0.06 & 0.3$\\pm$3.5 & 0.0 & 0 & 0.0 \\\\\n",
      "CII & 7113.0 & 242 & 7118.8$\\pm$0.0326 & 0.1 & 12.9$\\pm$4.5 & 0.0 & 0 & 0.0 \\\\\n",
      "CII & 7115.6 & 237 & 7121.3$\\pm$0.0008 & 0.17 & 22.7$\\pm$852.0 & 0.0 & 0 & 0.0 \\\\\n",
      "CII & 7125.7 & 236 & 7131.3$\\pm$0.0031 & 0.09 & 21.0$\\pm$4.0 & 0.0 & 0 & 0.0 \\\\\n",
      "CII & 7132.4 & 228 & 7137.8$\\pm$19.1831 & 0.01 & 0.4$\\pm$0.0 & 0.0 & 0 & 0.0 \\\\\n",
      "CII & 7134.1 & 232 & 7139.7$\\pm$0.0002 & 0.14 & 26.0$\\pm$2.8 & 0.0 & 0 & 0.0 \\\\\n",
      "CII & 7144.2 & 238 & 7149.9$\\pm$0.0 & 0.01 & 0.0$\\pm$1.4 & 0.0 & 0 & 0.0 \\\\\n",
      "CII & 7231.3 & 242 & 7237.1$\\pm$0.0004 & 2.73 & 24.9$\\pm$2.5 & 0.0 & 0 & 0.0 \\\\\n",
      "CII & 7236.4 & 255 & 7242.6$\\pm$0.0005 & 1.47 & 71.1$\\pm$0.9 & 0.0 & 0 & 0.0 \\\\\n",
      "CII & 7237.2 & 216 & 7242.4$\\pm$0.0001 & 2.39 & 14.9$\\pm$1.2 & 0.0 & 0 & 0.0 \\\\\n",
      "HeI & 7281.3 & 209 & 7286.4$\\pm$0.064 & 0.73 & 48.9$\\pm$0.0 & -0.41 & 180 & 18.3 \\\\\n",
      "OII & 7319.0 & 259 & 7325.3$\\pm$0.0049 & 0.14 & 35.8$\\pm$4.9 & 0.0 & 0 & 0.0 \\\\\n",
      "OII & 7330.0 & 247 & 7336.0$\\pm$0.0058 & 0.08 & 24.5$\\pm$0.0 & 0.0 & 0 & 0.0 \\\\\n",
      "CII & 7505.7 & 214 & 7511.0$\\pm$0.0052 & 0.26 & 14.3$\\pm$1.3 & 0.0 & 0 & 0.0 \\\\\n",
      "CII & 7508.9 & 262 & 7515.5$\\pm$0.002 & 0.26 & 29.0$\\pm$1.1 & 0.0 & 0 & 0.0 \\\\\n",
      "CII & 7519.9 & 234 & 7525.8$\\pm$0.0031 & 0.37 & 22.1$\\pm$0.7 & 0.0 & 0 & 0.0 \\\\\n",
      "CII & 7530.6 & 241 & 7536.6$\\pm$0.4199 & 0.09 & 0.5$\\pm$59.2 & 0.0 & 0 & 0.0 \\\\\n",
      "CIII? & 7771.8 & 237 & 7777.9$\\pm$0.0023 & -0.64 & 66.4$\\pm$1060060.7 & 0.0 & 0 & 0.0 \\\\\n",
      "OI & 7771.9 & 241 & 7778.2$\\pm$83014.8214 & 0.07 & 0.1$\\pm$0.0 & 0.0 & 0 & 0.0 \\\\\n",
      "OI & 7774.2 & 290 & 7781.7$\\pm$0.0 & 0.04 & 0.0$\\pm$1.6 & 0.0 & 0 & 0.0 \\\\\n",
      "OI & 7775.4 & 236 & 7781.5$\\pm$0.0017 & 0.3 & 27.0$\\pm$3889.1 & 0.0 & 0 & 0.0 \\\\\n",
      "CII & 8028.9 & 237 & 8035.2$\\pm$0.0 & 0.02 & 0.0$\\pm$2.2 & 0.0 & 0 & 0.0 \\\\\n",
      "CII & 8037.7 & 271 & 8045.0$\\pm$0.0021 & 0.19 & 55.2$\\pm$0.0 & 0.0 & 0 & 0.0 \\\\\n",
      "CII & 8039.4 & 265 & 8046.5$\\pm$0.0 & -0.01 & 0.0$\\pm$7.6 & 0.0 & 0 & 0.0 \\\\\n",
      "CII & 8048.3 & 226 & 8054.4$\\pm$0.0011 & 0.05 & 12.4$\\pm$2391.4 & 0.0 & 0 & 0.0 \\\\\n",
      "CII & 8062.1 & 344 & 8071.3$\\pm$21.4002 & 0.01 & 0.5$\\pm$4.8 & 0.0 & 0 & 0.0 \\\\\n",
      "CII & 8062.8 & 223 & 8068.8$\\pm$0.0024 & 0.12 & 19.3$\\pm$11.4 & 0.0 & 0 & 0.0 \\\\\n",
      "CII & 8076.6 & 237 & 8083.0$\\pm$0.0048 & 0.13 & 3.1$\\pm$1.4 & 0.0 & 0 & 0.0 \\\\\n",
      "OI & 8446.5 & 234 & 8453.1$\\pm$0.0007 & 0.22 & 24.5$\\pm$7.9 & 0.0 & 0 & 0.0 \\\\\n",
      "data_end\n",
      "\\end{tabular}\n",
      "tablefoot\n",
      "\\end{tabletype}\n"
     ]
    }
   ],
   "source": [
    "ascii.write(parsetable.group_by(\"Rest Wavelength\")[\"ID\",\"Rest Wavelength (air)\",\"Velocity\",\"ObsWav\",\"ratioamp\",\"dis\",\"ratiopc\",\"PCygV\",\"PCygDisp\"], Writer=ascii.Latex, latexdict=ascii.latex.latexdicts['template'])\n",
    "\n",
    "\n",
    "\n",
    "\n"
   ]
  }
 ],
 "metadata": {
  "kernelspec": {
   "display_name": "Python 3",
   "language": "python",
   "name": "python3"
  },
  "language_info": {
   "codemirror_mode": {
    "name": "ipython",
    "version": 3
   },
   "file_extension": ".py",
   "mimetype": "text/x-python",
   "name": "python",
   "nbconvert_exporter": "python",
   "pygments_lexer": "ipython3",
   "version": "3.6.5"
  }
 },
 "nbformat": 4,
 "nbformat_minor": 2
}
