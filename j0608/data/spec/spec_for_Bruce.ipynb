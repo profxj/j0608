{
 "cells": [
  {
   "cell_type": "markdown",
   "metadata": {},
   "source": [
    "# Convert FITS files to a format for Bruce"
   ]
  },
  {
   "cell_type": "code",
   "execution_count": 27,
   "metadata": {
    "collapsed": true
   },
   "outputs": [],
   "source": [
    "# imports\n",
    "import numpy as np\n",
    "\n",
    "from astropy.io import fits\n",
    "from astropy import units\n",
    "\n",
    "from linetools.spectra import xspectrum1d"
   ]
  },
  {
   "cell_type": "markdown",
   "metadata": {},
   "source": [
    "# Load"
   ]
  },
  {
   "cell_type": "code",
   "execution_count": 2,
   "metadata": {
    "collapsed": true
   },
   "outputs": [],
   "source": [
    "cpd = fits.open('CPD-56_F.fits')"
   ]
  },
  {
   "cell_type": "code",
   "execution_count": 3,
   "metadata": {},
   "outputs": [
    {
     "name": "stdout",
     "output_type": "stream",
     "text": [
      "Filename: CPD-56_F.fits\n",
      "No.    Name      Ver    Type      Cards   Dimensions   Format\n",
      "  0  PRIMARY       1 PrimaryHDU      84   (15558,)   float32   \n"
     ]
    }
   ],
   "source": [
    "cpd.info()"
   ]
  },
  {
   "cell_type": "markdown",
   "metadata": {},
   "source": [
    "## Header"
   ]
  },
  {
   "cell_type": "code",
   "execution_count": 6,
   "metadata": {},
   "outputs": [
    {
     "data": {
      "text/plain": [
       "SIMPLE  =                    T /                                                \n",
       "BITPIX  =                  -32 /                                                \n",
       "NAXIS   =                    1 /                                                \n",
       "EXTEND  =                    T /Extensions may be present                       \n",
       "BSCALE  =           1.00000000         / real=bzero+bscale*value                \n",
       "BUNIT   = 'DU/PIXEL'                                                            \n",
       "ORIGIN  = 'LCO/OCIW'                                                            \n",
       "OBSERVER= 'P. Massey'                  / observer name                          \n",
       "TELESCOP= 'Baade_Mag_1'                / telescope                              \n",
       "SITENAME= 'LCO'                                                                 \n",
       "SITEALT =                 2405         / meters                                 \n",
       "SITELAT =            -29.01423         / latitude                               \n",
       "SITELONG=            -70.69242         / longitude                              \n",
       "TIMEZONE=                    4                                                  \n",
       "DATE-OBS= '2018-02-04'                 / UT date (start)                        \n",
       "UT-DATE = '2018-02-04'                 / UT date (start)                        \n",
       "UT-TIME = '09:17:21'                   / UT time (start) 33441 seconds          \n",
       "UT-END  = '09:17:31'                   / UT time (end) 33451 seconds            \n",
       "LC-TIME = '06:17:21'                   / local time (start) 22641 seconds       \n",
       "NIGHT   = '03Feb2018'                  / local night                            \n",
       "INSTRUME= 'MagE'                       / instrument name                        \n",
       "SCALE   =                0.300         / arcsec/pixel                           \n",
       "EGAIN   =                 1.02         / electrons/DU (est.)                    \n",
       "ENOISE  =                 2.90         / electrons/read (est.)                  \n",
       "CHOFFX  =                0.000         / x-offset [arcsec]                      \n",
       "CHOFFY  =                0.000         / y-offset [arcsec]                      \n",
       "RA      = ' 17:09:01.1'                / right ascension                        \n",
       "RA-D    =          257.2547500         / degrees                                \n",
       "DEC     = '-56:54:47.3'                / declination                            \n",
       "DEC-D   =          -56.9131389         / degrees                                \n",
       "EQUINOX =           2000.00000         / of above coordinates                   \n",
       "EPOCH   =           2018.09421         / epoch (start)                          \n",
       "AIRMASS =                1.456         / airmass (start)                        \n",
       "ST      =              48752.8         / sidereal time: 13:32:32 (start)        \n",
       "ROTANGLE=               334.50         / rotator offset angle                   \n",
       "PARANGLE=               -77.23         / paralactic angle                       \n",
       "FILENAME= 'mage0133'                                                            \n",
       "OBJECT  = 'CPD -56 8032'               / object name                            \n",
       "EXPTYPE = 'Object'                     / exposure type                          \n",
       "EXPTIME =               10.000         / exposure time                          \n",
       "NLOOPS  =                    1         / # of loops per sequence                \n",
       "LOOP    =                    1         / # within this sequence                 \n",
       "BINNING = '1x1'                        / binning                                \n",
       "SPEED   = 'Slow'                       / readout speed                          \n",
       "NOVERSCN=                  128         / overscan pixels                        \n",
       "NBIASLNS=                  128         / bias lines                             \n",
       "BIASSEC = '[2049:2176,1025:1152]'      / NOAO: bias section                     \n",
       "COMMENT =                              / comment                                \n",
       "SUBRASTR= 'none'                       / full frame                             \n",
       "FOCUS   =                 2781         / instrument focus                       \n",
       "SLITNAME= '1.00'                       / slit name                              \n",
       "SLITENC =                 2543         / slit encoder                           \n",
       "HC-LAMP =                    0         / Hollow-Cathode lamp                    \n",
       "XE-FLASH=                    0         / Xenon flash lamp                       \n",
       "TEMPCCD =               -109.9         / CCD temperature [C]                    \n",
       "TEMPCRYO=               -155.1         / Cryo-Tiger temp. [C]                   \n",
       "TEMPINST=                 16.3         / instrument temp. [C]                   \n",
       "VGAUGE  =             9.91E-05         / vacuum gauge [mbar]                    \n",
       "IONPUMP =             3.81E-07         / ion-pump gauge [mbar]                  \n",
       "SOFTWARE= 'Version 1.3.2 (Jan 10 2016, 16:38:01)'                               \n",
       "FITSVERS= '1.3.1'                      / FITS header version                    \n",
       "COMMENT                                                                         \n",
       "COMMENT                                                                         \n",
       "COMMENT                                                                         \n",
       "COMMENT                                                                         \n",
       "COMMENT                                                                         \n",
       "COMMENT                                                                         \n",
       "COMMENT                                                                         \n",
       "COMMENT                                                                         \n",
       "COMMENT mage_pipe: v0.3, Build June 2009                                        \n",
       "COMMENT object reduced as: SCIENCE                                              \n",
       "COMMENT mage_pipe: Reduced Tue Feb 27 16:02:24 2018                             \n",
       "COMMENT mage_pipe: Re-fluxed with LTT1788_std_1.00.sav                          \n",
       "COMMENT mage_pipe: Re-fluxed with LTT1788_std_1.00.sav                          \n",
       "COMMENT mage_pipe: Re-fluxed with LTT1788_std_1.00.sav                          \n",
       "COMMENT mage_pipe: co-added 133,134,135                                         \n",
       "CDELT1  =    3.18703100992E-05 /                                                \n",
       "CRPIX1  =                    1 /                                                \n",
       "CTYPE1  = 'LINEAR  '           /                                                \n",
       "DC-FLAG =                    1 /                                                \n",
       "NAXIS1  =                15558 /                                                \n",
       "SIGFILE = 'CPD-56_E.fits'      /                                                \n",
       "RESVEL  =        71.3791566667 /                                                \n",
       "CRVAL1  =        3.51635360645 /                                                "
      ]
     },
     "execution_count": 6,
     "metadata": {},
     "output_type": "execute_result"
    }
   ],
   "source": [
    "cpd[0].header"
   ]
  },
  {
   "cell_type": "markdown",
   "metadata": {},
   "source": [
    "### Log-linear"
   ]
  },
  {
   "cell_type": "code",
   "execution_count": 9,
   "metadata": {},
   "outputs": [],
   "source": [
    "cdelt1 = cpd[0].header['CDELT1']\n",
    "crpix1 = cpd[0].header['CRPIX1']\n",
    "crval1 = cpd[0].header['CRVAL1']\n",
    "naxis1 = cpd[0].header['NAXIS1']"
   ]
  },
  {
   "cell_type": "code",
   "execution_count": 12,
   "metadata": {},
   "outputs": [
    {
     "data": {
      "text/plain": [
       "array([  3283.62540017,   3283.86637491,   3284.10736733, ...,\n",
       "        10282.442274  ,  10283.19686946,  10283.95152031])"
      ]
     },
     "execution_count": 12,
     "metadata": {},
     "output_type": "execute_result"
    }
   ],
   "source": [
    "wave = 10.**(crval1 + cdelt1*np.arange(naxis1))\n",
    "wave"
   ]
  },
  {
   "cell_type": "code",
   "execution_count": 13,
   "metadata": {},
   "outputs": [
    {
     "data": {
      "text/plain": [
       "0.4264564889367648"
      ]
     },
     "execution_count": 13,
     "metadata": {},
     "output_type": "execute_result"
    }
   ],
   "source": [
    "dwv = np.abs(wave-np.roll(wave,1))\n",
    "np.median(dwv)"
   ]
  },
  {
   "cell_type": "code",
   "execution_count": 15,
   "metadata": {},
   "outputs": [
    {
     "data": {
      "text/plain": [
       "array([ 0.24097474,  0.24097474,  0.24099242, ...,  0.7545401 ,\n",
       "        0.75459547,  0.75465085])"
      ]
     },
     "execution_count": 15,
     "metadata": {},
     "output_type": "execute_result"
    }
   ],
   "source": [
    "dwv[0] = dwv[1]\n",
    "dwv"
   ]
  },
  {
   "cell_type": "markdown",
   "metadata": {},
   "source": [
    "### Linear"
   ]
  },
  {
   "cell_type": "code",
   "execution_count": 16,
   "metadata": {
    "collapsed": true
   },
   "outputs": [],
   "source": [
    "cdelt = 0.25"
   ]
  },
  {
   "cell_type": "markdown",
   "metadata": {},
   "source": [
    "## Xspec"
   ]
  },
  {
   "cell_type": "code",
   "execution_count": 18,
   "metadata": {},
   "outputs": [
    {
     "name": "stderr",
     "output_type": "stream",
     "text": [
      "/home/xavier/local/Python/linetools/linetools/spectra/xspectrum1d.py:108: UserWarning: Assuming wavelength unit is Angstroms\n",
      "  warnings.warn(\"Assuming wavelength unit is Angstroms\")\n"
     ]
    }
   ],
   "source": [
    "xspec = xspectrum1d.XSpectrum1D.from_file('CPD-56_F.fits')"
   ]
  },
  {
   "cell_type": "code",
   "execution_count": 22,
   "metadata": {},
   "outputs": [
    {
     "data": {
      "text/plain": [
       "10283.375400167715"
      ]
     },
     "execution_count": 22,
     "metadata": {},
     "output_type": "execute_result"
    }
   ],
   "source": [
    "npix = 28000\n",
    "new_wave = 10.**(crval1) + np.arange(npix)*cdelt\n",
    "new_wave[-1]"
   ]
  },
  {
   "cell_type": "markdown",
   "metadata": {},
   "source": [
    "## Rebin"
   ]
  },
  {
   "cell_type": "code",
   "execution_count": 25,
   "metadata": {},
   "outputs": [
    {
     "data": {
      "text/latex": [
       "$[88.03933,~86.712357,~86.650742,~\\dots, 17.234283,~17.116951,~17.129732] \\; \\mathrm{}$"
      ],
      "text/plain": [
       "<Quantity [ 88.03932953, 86.71235657, 86.65074158,...,  17.23428345,\n",
       "            17.11695099, 17.12973213]>"
      ]
     },
     "execution_count": 25,
     "metadata": {},
     "output_type": "execute_result"
    }
   ],
   "source": [
    "xspec.sig"
   ]
  },
  {
   "cell_type": "code",
   "execution_count": 23,
   "metadata": {
    "collapsed": true
   },
   "outputs": [],
   "source": [
    "new_spec = xspec.rebin?"
   ]
  },
  {
   "cell_type": "code",
   "execution_count": 28,
   "metadata": {},
   "outputs": [],
   "source": [
    "new_spec = xspec.rebin(new_wave*units.AA, grow_bad_sig=True)"
   ]
  },
  {
   "cell_type": "code",
   "execution_count": 29,
   "metadata": {},
   "outputs": [
    {
     "data": {
      "image/png": "[encoded data removed]",
      "text/plain": [
       "<matplotlib.figure.Figure at 0x7ff346bd6240>"
      ]
     },
     "metadata": {},
     "output_type": "display_data"
    }
   ],
   "source": [
    "new_spec.plot()"
   ]
  },
  {
   "cell_type": "markdown",
   "metadata": {},
   "source": [
    "## Header"
   ]
  },
  {
   "cell_type": "code",
   "execution_count": 30,
   "metadata": {
    "collapsed": true
   },
   "outputs": [],
   "source": [
    "new_head = cpd[0].header.copy()"
   ]
  },
  {
   "cell_type": "code",
   "execution_count": 60,
   "metadata": {},
   "outputs": [],
   "source": [
    "new_head['CDELT1'] = cdelt\n",
    "new_head['CRVAL1'] = new_wave[0]\n",
    "new_head['DC-FLAG'] = 0"
   ]
  },
  {
   "cell_type": "code",
   "execution_count": 61,
   "metadata": {},
   "outputs": [
    {
     "data": {
      "text/plain": [
       "SIMPLE  =                    T /                                                \n",
       "BITPIX  =                  -32 /                                                \n",
       "NAXIS   =                    1 /                                                \n",
       "BSCALE  =           1.00000000         / real=bzero+bscale*value                \n",
       "BUNIT   = 'DU/PIXEL'                                                            \n",
       "ORIGIN  = 'LCO/OCIW'                                                            \n",
       "OBSERVER= 'P. Massey'                  / observer name                          \n",
       "TELESCOP= 'Baade_Mag_1'                / telescope                              \n",
       "SITENAME= 'LCO'                                                                 \n",
       "SITEALT =                 2405         / meters                                 \n",
       "SITELAT =            -29.01423         / latitude                               \n",
       "SITELONG=            -70.69242         / longitude                              \n",
       "TIMEZONE=                    4                                                  \n",
       "DATE-OBS= '2018-02-04'                 / UT date (start)                        \n",
       "UT-DATE = '2018-02-04'                 / UT date (start)                        \n",
       "UT-TIME = '09:17:21'                   / UT time (start) 33441 seconds          \n",
       "UT-END  = '09:17:31'                   / UT time (end) 33451 seconds            \n",
       "LC-TIME = '06:17:21'                   / local time (start) 22641 seconds       \n",
       "NIGHT   = '03Feb2018'                  / local night                            \n",
       "INSTRUME= 'MagE'                       / instrument name                        \n",
       "SCALE   =                0.300         / arcsec/pixel                           \n",
       "EGAIN   =                 1.02         / electrons/DU (est.)                    \n",
       "ENOISE  =                 2.90         / electrons/read (est.)                  \n",
       "CHOFFX  =                0.000         / x-offset [arcsec]                      \n",
       "CHOFFY  =                0.000         / y-offset [arcsec]                      \n",
       "RA      = ' 17:09:01.1'                / right ascension                        \n",
       "RA-D    =          257.2547500         / degrees                                \n",
       "DEC     = '-56:54:47.3'                / declination                            \n",
       "DEC-D   =          -56.9131389         / degrees                                \n",
       "EQUINOX =           2000.00000         / of above coordinates                   \n",
       "EPOCH   =           2018.09421         / epoch (start)                          \n",
       "AIRMASS =                1.456         / airmass (start)                        \n",
       "ST      =              48752.8         / sidereal time: 13:32:32 (start)        \n",
       "ROTANGLE=               334.50         / rotator offset angle                   \n",
       "PARANGLE=               -77.23         / paralactic angle                       \n",
       "FILENAME= 'mage0133'                                                            \n",
       "OBJECT  = 'CPD -56 8032'               / object name                            \n",
       "EXPTYPE = 'Object'                     / exposure type                          \n",
       "EXPTIME =               10.000         / exposure time                          \n",
       "NLOOPS  =                    1         / # of loops per sequence                \n",
       "LOOP    =                    1         / # within this sequence                 \n",
       "BINNING = '1x1'                        / binning                                \n",
       "SPEED   = 'Slow'                       / readout speed                          \n",
       "NOVERSCN=                  128         / overscan pixels                        \n",
       "NBIASLNS=                  128         / bias lines                             \n",
       "BIASSEC = '[2049:2176,1025:1152]'      / NOAO: bias section                     \n",
       "COMMENT =                              / comment                                \n",
       "SUBRASTR= 'none'                       / full frame                             \n",
       "FOCUS   =                 2781         / instrument focus                       \n",
       "SLITNAME= '1.00'                       / slit name                              \n",
       "SLITENC =                 2543         / slit encoder                           \n",
       "HC-LAMP =                    0         / Hollow-Cathode lamp                    \n",
       "XE-FLASH=                    0         / Xenon flash lamp                       \n",
       "TEMPCCD =               -109.9         / CCD temperature [C]                    \n",
       "TEMPCRYO=               -155.1         / Cryo-Tiger temp. [C]                   \n",
       "TEMPINST=                 16.3         / instrument temp. [C]                   \n",
       "VGAUGE  =             9.91E-05         / vacuum gauge [mbar]                    \n",
       "IONPUMP =             3.81E-07         / ion-pump gauge [mbar]                  \n",
       "SOFTWARE= 'Version 1.3.2 (Jan 10 2016, 16:38:01)'                               \n",
       "FITSVERS= '1.3.1'                      / FITS header version                    \n",
       "COMMENT                                                                         \n",
       "COMMENT                                                                         \n",
       "COMMENT                                                                         \n",
       "COMMENT                                                                         \n",
       "COMMENT                                                                         \n",
       "COMMENT                                                                         \n",
       "COMMENT                                                                         \n",
       "COMMENT                                                                         \n",
       "COMMENT mage_pipe: v0.3, Build June 2009                                        \n",
       "COMMENT object reduced as: SCIENCE                                              \n",
       "COMMENT mage_pipe: Reduced Tue Feb 27 16:02:24 2018                             \n",
       "COMMENT mage_pipe: Re-fluxed with LTT1788_std_1.00.sav                          \n",
       "COMMENT mage_pipe: Re-fluxed with LTT1788_std_1.00.sav                          \n",
       "COMMENT mage_pipe: Re-fluxed with LTT1788_std_1.00.sav                          \n",
       "COMMENT mage_pipe: co-added 133,134,135                                         \n",
       "CDELT1  =                 0.25                                                  \n",
       "CRPIX1  =                    1 /                                                \n",
       "CTYPE1  = 'LINEAR  '           /                                                \n",
       "DC-FLAG =                    0                                                  \n",
       "NAXIS1  =                28000                                                  \n",
       "EXTEND  =                    T /Extensions may be present                       \n",
       "SIGFILE = 'CPD-56_E.fits'      /                                                \n",
       "RESVEL  =        71.3791566667 /                                                \n",
       "CRVAL1  =    3283.625400167715                                                  "
      ]
     },
     "execution_count": 61,
     "metadata": {},
     "output_type": "execute_result"
    }
   ],
   "source": [
    "new_head"
   ]
  },
  {
   "cell_type": "markdown",
   "metadata": {},
   "source": [
    "## Write"
   ]
  },
  {
   "cell_type": "code",
   "execution_count": 62,
   "metadata": {},
   "outputs": [
    {
     "data": {
      "text/plain": [
       "28000"
      ]
     },
     "execution_count": 62,
     "metadata": {},
     "output_type": "execute_result"
    }
   ],
   "source": [
    "len(new_spec.flux)"
   ]
  },
  {
   "cell_type": "code",
   "execution_count": 63,
   "metadata": {
    "collapsed": true
   },
   "outputs": [],
   "source": [
    "prihdu = fits.PrimaryHDU(new_spec.flux.value)"
   ]
  },
  {
   "cell_type": "code",
   "execution_count": 64,
   "metadata": {},
   "outputs": [],
   "source": [
    "for key in new_head.keys():\n",
    "    if key in ['NAXIS1', 'COMMENT']:\n",
    "        continue\n",
    "    prihdu.header[key] = new_head[key]"
   ]
  },
  {
   "cell_type": "code",
   "execution_count": 65,
   "metadata": {
    "collapsed": true
   },
   "outputs": [],
   "source": [
    "hdul = fits.HDUList([prihdu])"
   ]
  },
  {
   "cell_type": "code",
   "execution_count": 66,
   "metadata": {},
   "outputs": [],
   "source": [
    "hdul.writeto('CPD-56_linear.fits', overwrite=True)"
   ]
  },
  {
   "cell_type": "code",
   "execution_count": null,
   "metadata": {
    "collapsed": true
   },
   "outputs": [],
   "source": []
  },
  {
   "cell_type": "code",
   "execution_count": null,
   "metadata": {
    "collapsed": true
   },
   "outputs": [],
   "source": []
  }
 ],
 "metadata": {
  "kernelspec": {
   "display_name": "Python 3",
   "language": "python",
   "name": "python3"
  },
  "language_info": {
   "codemirror_mode": {
    "name": "ipython",
    "version": 3
   },
   "file_extension": ".py",
   "mimetype": "text/x-python",
   "name": "python",
   "nbconvert_exporter": "python",
   "pygments_lexer": "ipython3",
   "version": "3.6.3"
  }
 },
 "nbformat": 4,
 "nbformat_minor": 2
}
